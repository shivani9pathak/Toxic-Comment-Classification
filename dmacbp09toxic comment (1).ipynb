{
 "cells": [
  {
   "cell_type": "code",
   "execution_count": 1,
   "metadata": {
    "_cell_guid": "b1076dfc-b9ad-4769-8c92-a6c4dae69d19",
    "_uuid": "8f2839f25d086af736a60e9eeb907d3b93b6e0e5",
    "execution": {
     "iopub.execute_input": "2022-08-18T13:18:01.622105Z",
     "iopub.status.busy": "2022-08-18T13:18:01.621293Z",
     "iopub.status.idle": "2022-08-18T13:18:01.670816Z",
     "shell.execute_reply": "2022-08-18T13:18:01.669744Z",
     "shell.execute_reply.started": "2022-08-18T13:18:01.621992Z"
    }
   },
   "outputs": [
    {
     "name": "stdout",
     "output_type": "stream",
     "text": [
      "/kaggle/input/jigsaw-toxic-comment-classification-challenge/sample_submission.csv\n",
      "/kaggle/input/jigsaw-toxic-comment-classification-challenge/test_labels.csv\n",
      "/kaggle/input/jigsaw-toxic-comment-classification-challenge/train.csv\n",
      "/kaggle/input/jigsaw-toxic-comment-classification-challenge/test.csv\n"
     ]
    }
   ],
   "source": [
    "\n",
    "import numpy as np \n",
    "import pandas as pd \n",
    "\n",
    "# Input data files are available in the read-only \"../input/\" directory\n",
    "\n",
    "import os\n",
    "for dirname, _, filenames in os.walk('/kaggle/input'):\n",
    "    for filename in filenames:\n",
    "        print(os.path.join(dirname, filename))\n",
    "\n"
   ]
  },
  {
   "cell_type": "markdown",
   "metadata": {},
   "source": [
    "# **Import library**"
   ]
  },
  {
   "cell_type": "code",
   "execution_count": 40,
   "metadata": {
    "execution": {
     "iopub.execute_input": "2022-08-18T13:39:31.371192Z",
     "iopub.status.busy": "2022-08-18T13:39:31.370812Z",
     "iopub.status.idle": "2022-08-18T13:39:31.381295Z",
     "shell.execute_reply": "2022-08-18T13:39:31.380310Z",
     "shell.execute_reply.started": "2022-08-18T13:39:31.371163Z"
    }
   },
   "outputs": [],
   "source": [
    "from sklearn.feature_extraction.text import TfidfVectorizer\n",
    "from sklearn.model_selection import train_test_split\n",
    "from sklearn.linear_model import LogisticRegression\n",
    "from sklearn import metrics\n",
    "from matplotlib import pyplot as plt\n",
    "import pandas as pd\n",
    "import numpy as np\n",
    "import seaborn as sns\n",
    "%matplotlib inline\n",
    "from sklearn.metrics import roc_auc_score , accuracy_score , confusion_matrix , f1_score\n",
    "from sklearn.multiclass import OneVsRestClassifier\n",
    "import re\n",
    "import string\n",
    "import nltk\n",
    "from nltk.corpus import stopwords\n",
    "from nltk.stem import PorterStemmer\n",
    "from nltk.stem import WordNetLemmatizer\n",
    "from sklearn.metrics import confusion_matrix\n",
    "from sklearn.metrics import precision_score, recall_score, f1_score, accuracy_score"
   ]
  },
  {
   "cell_type": "markdown",
   "metadata": {},
   "source": [
    "# **Read dataset**"
   ]
  },
  {
   "cell_type": "code",
   "execution_count": 41,
   "metadata": {
    "execution": {
     "iopub.execute_input": "2022-08-18T13:39:32.992950Z",
     "iopub.status.busy": "2022-08-18T13:39:32.992241Z",
     "iopub.status.idle": "2022-08-18T13:39:34.637096Z",
     "shell.execute_reply": "2022-08-18T13:39:34.636063Z",
     "shell.execute_reply.started": "2022-08-18T13:39:32.992912Z"
    }
   },
   "outputs": [],
   "source": [
    "traindf = pd.read_csv(\"../input/jigsaw-toxic-comment-classification-challenge/train.csv\")\n",
    "testdf = pd.read_csv(\"../input/jigsaw-toxic-comment-classification-challenge/test.csv\")"
   ]
  },
  {
   "cell_type": "code",
   "execution_count": 42,
   "metadata": {
    "execution": {
     "iopub.execute_input": "2022-08-18T13:39:34.639693Z",
     "iopub.status.busy": "2022-08-18T13:39:34.639271Z",
     "iopub.status.idle": "2022-08-18T13:39:34.651139Z",
     "shell.execute_reply": "2022-08-18T13:39:34.650071Z",
     "shell.execute_reply.started": "2022-08-18T13:39:34.639657Z"
    }
   },
   "outputs": [
    {
     "data": {
      "text/html": [
       "<div>\n",
       "<style scoped>\n",
       "    .dataframe tbody tr th:only-of-type {\n",
       "        vertical-align: middle;\n",
       "    }\n",
       "\n",
       "    .dataframe tbody tr th {\n",
       "        vertical-align: top;\n",
       "    }\n",
       "\n",
       "    .dataframe thead th {\n",
       "        text-align: right;\n",
       "    }\n",
       "</style>\n",
       "<table border=\"1\" class=\"dataframe\">\n",
       "  <thead>\n",
       "    <tr style=\"text-align: right;\">\n",
       "      <th></th>\n",
       "      <th>id</th>\n",
       "      <th>comment_text</th>\n",
       "      <th>toxic</th>\n",
       "      <th>severe_toxic</th>\n",
       "      <th>obscene</th>\n",
       "      <th>threat</th>\n",
       "      <th>insult</th>\n",
       "      <th>identity_hate</th>\n",
       "    </tr>\n",
       "  </thead>\n",
       "  <tbody>\n",
       "    <tr>\n",
       "      <th>0</th>\n",
       "      <td>0000997932d777bf</td>\n",
       "      <td>Explanation\\nWhy the edits made under my usern...</td>\n",
       "      <td>0</td>\n",
       "      <td>0</td>\n",
       "      <td>0</td>\n",
       "      <td>0</td>\n",
       "      <td>0</td>\n",
       "      <td>0</td>\n",
       "    </tr>\n",
       "    <tr>\n",
       "      <th>1</th>\n",
       "      <td>000103f0d9cfb60f</td>\n",
       "      <td>D'aww! He matches this background colour I'm s...</td>\n",
       "      <td>0</td>\n",
       "      <td>0</td>\n",
       "      <td>0</td>\n",
       "      <td>0</td>\n",
       "      <td>0</td>\n",
       "      <td>0</td>\n",
       "    </tr>\n",
       "  </tbody>\n",
       "</table>\n",
       "</div>"
      ],
      "text/plain": [
       "                 id                                       comment_text  toxic  \\\n",
       "0  0000997932d777bf  Explanation\\nWhy the edits made under my usern...      0   \n",
       "1  000103f0d9cfb60f  D'aww! He matches this background colour I'm s...      0   \n",
       "\n",
       "   severe_toxic  obscene  threat  insult  identity_hate  \n",
       "0             0        0       0       0              0  \n",
       "1             0        0       0       0              0  "
      ]
     },
     "execution_count": 42,
     "metadata": {},
     "output_type": "execute_result"
    }
   ],
   "source": [
    "traindf.head(2)"
   ]
  },
  {
   "cell_type": "code",
   "execution_count": 43,
   "metadata": {
    "execution": {
     "iopub.execute_input": "2022-08-18T13:39:34.653659Z",
     "iopub.status.busy": "2022-08-18T13:39:34.652959Z",
     "iopub.status.idle": "2022-08-18T13:39:34.672252Z",
     "shell.execute_reply": "2022-08-18T13:39:34.671217Z",
     "shell.execute_reply.started": "2022-08-18T13:39:34.653622Z"
    }
   },
   "outputs": [
    {
     "data": {
      "text/html": [
       "<div>\n",
       "<style scoped>\n",
       "    .dataframe tbody tr th:only-of-type {\n",
       "        vertical-align: middle;\n",
       "    }\n",
       "\n",
       "    .dataframe tbody tr th {\n",
       "        vertical-align: top;\n",
       "    }\n",
       "\n",
       "    .dataframe thead th {\n",
       "        text-align: right;\n",
       "    }\n",
       "</style>\n",
       "<table border=\"1\" class=\"dataframe\">\n",
       "  <thead>\n",
       "    <tr style=\"text-align: right;\">\n",
       "      <th></th>\n",
       "      <th>id</th>\n",
       "      <th>comment_text</th>\n",
       "      <th>toxic</th>\n",
       "      <th>severe_toxic</th>\n",
       "      <th>obscene</th>\n",
       "      <th>threat</th>\n",
       "      <th>insult</th>\n",
       "      <th>identity_hate</th>\n",
       "    </tr>\n",
       "  </thead>\n",
       "  <tbody>\n",
       "    <tr>\n",
       "      <th>6</th>\n",
       "      <td>0002bcb3da6cb337</td>\n",
       "      <td>COCKSUCKER BEFORE YOU PISS AROUND ON MY WORK</td>\n",
       "      <td>1</td>\n",
       "      <td>1</td>\n",
       "      <td>1</td>\n",
       "      <td>0</td>\n",
       "      <td>1</td>\n",
       "      <td>0</td>\n",
       "    </tr>\n",
       "    <tr>\n",
       "      <th>12</th>\n",
       "      <td>0005c987bdfc9d4b</td>\n",
       "      <td>Hey... what is it..\\n@ | talk .\\nWhat is it......</td>\n",
       "      <td>1</td>\n",
       "      <td>0</td>\n",
       "      <td>0</td>\n",
       "      <td>0</td>\n",
       "      <td>0</td>\n",
       "      <td>0</td>\n",
       "    </tr>\n",
       "  </tbody>\n",
       "</table>\n",
       "</div>"
      ],
      "text/plain": [
       "                  id                                       comment_text  \\\n",
       "6   0002bcb3da6cb337       COCKSUCKER BEFORE YOU PISS AROUND ON MY WORK   \n",
       "12  0005c987bdfc9d4b  Hey... what is it..\\n@ | talk .\\nWhat is it......   \n",
       "\n",
       "    toxic  severe_toxic  obscene  threat  insult  identity_hate  \n",
       "6       1             1        1       0       1              0  \n",
       "12      1             0        0       0       0              0  "
      ]
     },
     "execution_count": 43,
     "metadata": {},
     "output_type": "execute_result"
    }
   ],
   "source": [
    "traindf[traindf['toxic']==1].head(2)"
   ]
  },
  {
   "cell_type": "markdown",
   "metadata": {},
   "source": [
    "# **Data Preprocessing**"
   ]
  },
  {
   "cell_type": "code",
   "execution_count": 44,
   "metadata": {
    "execution": {
     "iopub.execute_input": "2022-08-18T13:39:34.675211Z",
     "iopub.status.busy": "2022-08-18T13:39:34.674539Z",
     "iopub.status.idle": "2022-08-18T13:39:34.681103Z",
     "shell.execute_reply": "2022-08-18T13:39:34.679909Z",
     "shell.execute_reply.started": "2022-08-18T13:39:34.675174Z"
    }
   },
   "outputs": [],
   "source": [
    "cols_target = []\n",
    "i = 0\n",
    "for col in traindf.columns:\n",
    "    if i == 0 or i == 1:\n",
    "        i += 1\n",
    "        continue\n",
    "    cols_target.append(col)"
   ]
  },
  {
   "cell_type": "code",
   "execution_count": 45,
   "metadata": {
    "execution": {
     "iopub.execute_input": "2022-08-18T13:39:34.683033Z",
     "iopub.status.busy": "2022-08-18T13:39:34.682574Z",
     "iopub.status.idle": "2022-08-18T13:39:34.693466Z",
     "shell.execute_reply": "2022-08-18T13:39:34.692549Z",
     "shell.execute_reply.started": "2022-08-18T13:39:34.682989Z"
    }
   },
   "outputs": [
    {
     "data": {
      "text/plain": [
       "['toxic', 'severe_toxic', 'obscene', 'threat', 'insult', 'identity_hate']"
      ]
     },
     "execution_count": 45,
     "metadata": {},
     "output_type": "execute_result"
    }
   ],
   "source": [
    "cols_target"
   ]
  },
  {
   "cell_type": "code",
   "execution_count": 46,
   "metadata": {
    "execution": {
     "iopub.execute_input": "2022-08-18T13:40:27.182306Z",
     "iopub.status.busy": "2022-08-18T13:40:27.181934Z",
     "iopub.status.idle": "2022-08-18T13:40:27.229898Z",
     "shell.execute_reply": "2022-08-18T13:40:27.228902Z",
     "shell.execute_reply.started": "2022-08-18T13:40:27.182275Z"
    }
   },
   "outputs": [
    {
     "data": {
      "text/html": [
       "<div>\n",
       "<style scoped>\n",
       "    .dataframe tbody tr th:only-of-type {\n",
       "        vertical-align: middle;\n",
       "    }\n",
       "\n",
       "    .dataframe tbody tr th {\n",
       "        vertical-align: top;\n",
       "    }\n",
       "\n",
       "    .dataframe thead th {\n",
       "        text-align: right;\n",
       "    }\n",
       "</style>\n",
       "<table border=\"1\" class=\"dataframe\">\n",
       "  <thead>\n",
       "    <tr style=\"text-align: right;\">\n",
       "      <th></th>\n",
       "      <th>toxic</th>\n",
       "      <th>severe_toxic</th>\n",
       "      <th>obscene</th>\n",
       "      <th>threat</th>\n",
       "      <th>insult</th>\n",
       "      <th>identity_hate</th>\n",
       "    </tr>\n",
       "  </thead>\n",
       "  <tbody>\n",
       "    <tr>\n",
       "      <th>count</th>\n",
       "      <td>159571.000000</td>\n",
       "      <td>159571.000000</td>\n",
       "      <td>159571.000000</td>\n",
       "      <td>159571.000000</td>\n",
       "      <td>159571.000000</td>\n",
       "      <td>159571.000000</td>\n",
       "    </tr>\n",
       "    <tr>\n",
       "      <th>mean</th>\n",
       "      <td>0.095844</td>\n",
       "      <td>0.009996</td>\n",
       "      <td>0.052948</td>\n",
       "      <td>0.002996</td>\n",
       "      <td>0.049364</td>\n",
       "      <td>0.008805</td>\n",
       "    </tr>\n",
       "    <tr>\n",
       "      <th>std</th>\n",
       "      <td>0.294379</td>\n",
       "      <td>0.099477</td>\n",
       "      <td>0.223931</td>\n",
       "      <td>0.054650</td>\n",
       "      <td>0.216627</td>\n",
       "      <td>0.093420</td>\n",
       "    </tr>\n",
       "    <tr>\n",
       "      <th>min</th>\n",
       "      <td>0.000000</td>\n",
       "      <td>0.000000</td>\n",
       "      <td>0.000000</td>\n",
       "      <td>0.000000</td>\n",
       "      <td>0.000000</td>\n",
       "      <td>0.000000</td>\n",
       "    </tr>\n",
       "    <tr>\n",
       "      <th>25%</th>\n",
       "      <td>0.000000</td>\n",
       "      <td>0.000000</td>\n",
       "      <td>0.000000</td>\n",
       "      <td>0.000000</td>\n",
       "      <td>0.000000</td>\n",
       "      <td>0.000000</td>\n",
       "    </tr>\n",
       "    <tr>\n",
       "      <th>50%</th>\n",
       "      <td>0.000000</td>\n",
       "      <td>0.000000</td>\n",
       "      <td>0.000000</td>\n",
       "      <td>0.000000</td>\n",
       "      <td>0.000000</td>\n",
       "      <td>0.000000</td>\n",
       "    </tr>\n",
       "    <tr>\n",
       "      <th>75%</th>\n",
       "      <td>0.000000</td>\n",
       "      <td>0.000000</td>\n",
       "      <td>0.000000</td>\n",
       "      <td>0.000000</td>\n",
       "      <td>0.000000</td>\n",
       "      <td>0.000000</td>\n",
       "    </tr>\n",
       "    <tr>\n",
       "      <th>max</th>\n",
       "      <td>1.000000</td>\n",
       "      <td>1.000000</td>\n",
       "      <td>1.000000</td>\n",
       "      <td>1.000000</td>\n",
       "      <td>1.000000</td>\n",
       "      <td>1.000000</td>\n",
       "    </tr>\n",
       "  </tbody>\n",
       "</table>\n",
       "</div>"
      ],
      "text/plain": [
       "               toxic   severe_toxic        obscene         threat  \\\n",
       "count  159571.000000  159571.000000  159571.000000  159571.000000   \n",
       "mean        0.095844       0.009996       0.052948       0.002996   \n",
       "std         0.294379       0.099477       0.223931       0.054650   \n",
       "min         0.000000       0.000000       0.000000       0.000000   \n",
       "25%         0.000000       0.000000       0.000000       0.000000   \n",
       "50%         0.000000       0.000000       0.000000       0.000000   \n",
       "75%         0.000000       0.000000       0.000000       0.000000   \n",
       "max         1.000000       1.000000       1.000000       1.000000   \n",
       "\n",
       "              insult  identity_hate  \n",
       "count  159571.000000  159571.000000  \n",
       "mean        0.049364       0.008805  \n",
       "std         0.216627       0.093420  \n",
       "min         0.000000       0.000000  \n",
       "25%         0.000000       0.000000  \n",
       "50%         0.000000       0.000000  \n",
       "75%         0.000000       0.000000  \n",
       "max         1.000000       1.000000  "
      ]
     },
     "execution_count": 46,
     "metadata": {},
     "output_type": "execute_result"
    }
   ],
   "source": [
    "# check missing values in numeric columns\n",
    "traindf.describe()"
   ]
  },
  {
   "cell_type": "code",
   "execution_count": 47,
   "metadata": {
    "execution": {
     "iopub.execute_input": "2022-08-18T13:40:27.996637Z",
     "iopub.status.busy": "2022-08-18T13:40:27.995527Z",
     "iopub.status.idle": "2022-08-18T13:40:28.006972Z",
     "shell.execute_reply": "2022-08-18T13:40:28.005969Z",
     "shell.execute_reply.started": "2022-08-18T13:40:27.996588Z"
    }
   },
   "outputs": [
    {
     "data": {
      "text/plain": [
       "2"
      ]
     },
     "execution_count": 47,
     "metadata": {},
     "output_type": "execute_result"
    }
   ],
   "source": [
    "len(traindf['toxic'].drop_duplicates())"
   ]
  },
  {
   "cell_type": "code",
   "execution_count": 48,
   "metadata": {
    "execution": {
     "iopub.execute_input": "2022-08-18T13:40:28.610705Z",
     "iopub.status.busy": "2022-08-18T13:40:28.609658Z",
     "iopub.status.idle": "2022-08-18T13:40:28.642033Z",
     "shell.execute_reply": "2022-08-18T13:40:28.641063Z",
     "shell.execute_reply.started": "2022-08-18T13:40:28.610656Z"
    }
   },
   "outputs": [
    {
     "data": {
      "text/html": [
       "<div>\n",
       "<style scoped>\n",
       "    .dataframe tbody tr th:only-of-type {\n",
       "        vertical-align: middle;\n",
       "    }\n",
       "\n",
       "    .dataframe tbody tr th {\n",
       "        vertical-align: top;\n",
       "    }\n",
       "\n",
       "    .dataframe thead th {\n",
       "        text-align: right;\n",
       "    }\n",
       "</style>\n",
       "<table border=\"1\" class=\"dataframe\">\n",
       "  <thead>\n",
       "    <tr style=\"text-align: right;\">\n",
       "      <th></th>\n",
       "      <th>id</th>\n",
       "      <th>comment_text</th>\n",
       "      <th>toxic</th>\n",
       "      <th>severe_toxic</th>\n",
       "      <th>obscene</th>\n",
       "      <th>threat</th>\n",
       "      <th>insult</th>\n",
       "      <th>identity_hate</th>\n",
       "    </tr>\n",
       "  </thead>\n",
       "  <tbody>\n",
       "  </tbody>\n",
       "</table>\n",
       "</div>"
      ],
      "text/plain": [
       "Empty DataFrame\n",
       "Columns: [id, comment_text, toxic, severe_toxic, obscene, threat, insult, identity_hate]\n",
       "Index: []"
      ]
     },
     "execution_count": 48,
     "metadata": {},
     "output_type": "execute_result"
    }
   ],
   "source": [
    "traindf[traindf['comment_text'].isnull()]"
   ]
  },
  {
   "cell_type": "code",
   "execution_count": 49,
   "metadata": {
    "execution": {
     "iopub.execute_input": "2022-08-18T13:40:29.085141Z",
     "iopub.status.busy": "2022-08-18T13:40:29.084422Z",
     "iopub.status.idle": "2022-08-18T13:40:29.114629Z",
     "shell.execute_reply": "2022-08-18T13:40:29.113521Z",
     "shell.execute_reply.started": "2022-08-18T13:40:29.085104Z"
    }
   },
   "outputs": [
    {
     "data": {
      "text/html": [
       "<div>\n",
       "<style scoped>\n",
       "    .dataframe tbody tr th:only-of-type {\n",
       "        vertical-align: middle;\n",
       "    }\n",
       "\n",
       "    .dataframe tbody tr th {\n",
       "        vertical-align: top;\n",
       "    }\n",
       "\n",
       "    .dataframe thead th {\n",
       "        text-align: right;\n",
       "    }\n",
       "</style>\n",
       "<table border=\"1\" class=\"dataframe\">\n",
       "  <thead>\n",
       "    <tr style=\"text-align: right;\">\n",
       "      <th></th>\n",
       "      <th>id</th>\n",
       "      <th>comment_text</th>\n",
       "    </tr>\n",
       "  </thead>\n",
       "  <tbody>\n",
       "  </tbody>\n",
       "</table>\n",
       "</div>"
      ],
      "text/plain": [
       "Empty DataFrame\n",
       "Columns: [id, comment_text]\n",
       "Index: []"
      ]
     },
     "execution_count": 49,
     "metadata": {},
     "output_type": "execute_result"
    }
   ],
   "source": [
    "testdf[testdf['comment_text'].isnull()]"
   ]
  },
  {
   "cell_type": "code",
   "execution_count": 50,
   "metadata": {
    "execution": {
     "iopub.execute_input": "2022-08-18T13:40:29.573761Z",
     "iopub.status.busy": "2022-08-18T13:40:29.573169Z",
     "iopub.status.idle": "2022-08-18T13:40:29.584902Z",
     "shell.execute_reply": "2022-08-18T13:40:29.583702Z",
     "shell.execute_reply.started": "2022-08-18T13:40:29.573726Z"
    }
   },
   "outputs": [
    {
     "name": "stdout",
     "output_type": "stream",
     "text": [
      "Total rows in test is 153164\n",
      "Total rows in train is 159571\n",
      "toxic            15294\n",
      "severe_toxic      1595\n",
      "obscene           8449\n",
      "threat             478\n",
      "insult            7877\n",
      "identity_hate     1405\n",
      "dtype: int64\n"
     ]
    }
   ],
   "source": [
    "print('Total rows in test is {}'.format(len(testdf)))\n",
    "print('Total rows in train is {}'.format(len(traindf)))\n",
    "print(traindf[cols_target].sum())"
   ]
  },
  {
   "cell_type": "code",
   "execution_count": 51,
   "metadata": {
    "execution": {
     "iopub.execute_input": "2022-08-18T13:40:29.947724Z",
     "iopub.status.busy": "2022-08-18T13:40:29.946997Z",
     "iopub.status.idle": "2022-08-18T13:40:29.956150Z",
     "shell.execute_reply": "2022-08-18T13:40:29.955026Z",
     "shell.execute_reply.started": "2022-08-18T13:40:29.947679Z"
    }
   },
   "outputs": [],
   "source": [
    "data = traindf[cols_target]"
   ]
  },
  {
   "cell_type": "code",
   "execution_count": 52,
   "metadata": {
    "execution": {
     "iopub.execute_input": "2022-08-18T13:40:30.517819Z",
     "iopub.status.busy": "2022-08-18T13:40:30.515655Z",
     "iopub.status.idle": "2022-08-18T13:40:30.932754Z",
     "shell.execute_reply": "2022-08-18T13:40:30.931696Z",
     "shell.execute_reply.started": "2022-08-18T13:40:30.517763Z"
    }
   },
   "outputs": [
    {
     "data": {
      "text/plain": [
       "<AxesSubplot:title={'center':'Correlation of features & targets'}>"
      ]
     },
     "execution_count": 52,
     "metadata": {},
     "output_type": "execute_result"
    },
    {
     "data": {
      "image/png": "[encoded data removed]",
      "text/plain": [
       "<Figure size 504x504 with 2 Axes>"
      ]
     },
     "metadata": {
      "needs_background": "light"
     },
     "output_type": "display_data"
    }
   ],
   "source": [
    "colormap = plt.cm.plasma\n",
    "plt.figure(figsize=(7,7))\n",
    "plt.title('Correlation of features & targets',y=1.05,size=14)\n",
    "sns.heatmap(data.astype(float).corr(),linewidths=0.1,vmax=1.0,square=True,cmap=colormap,\n",
    "           linecolor='white',annot=True)"
   ]
  },
  {
   "cell_type": "markdown",
   "metadata": {},
   "source": [
    "# **Function to Clean the data**"
   ]
  },
  {
   "cell_type": "code",
   "execution_count": 1,
   "metadata": {
    "execution": {
     "iopub.execute_input": "2022-08-20T04:45:03.431090Z",
     "iopub.status.busy": "2022-08-20T04:45:03.430577Z",
     "iopub.status.idle": "2022-08-20T04:45:03.463546Z",
     "shell.execute_reply": "2022-08-20T04:45:03.462541Z",
     "shell.execute_reply.started": "2022-08-20T04:45:03.430994Z"
    }
   },
   "outputs": [],
   "source": [
    "def cleanData(text):\n",
    "    text = text.lower()\n",
    "    text = re.sub(r\"what's\", \"what is \", text)\n",
    "    text = re.sub(r\"\\'s\", \" \", text)\n",
    "    text = re.sub(r\"\\'ve\", \" have \", text)\n",
    "    text = re.sub(r\"can't\", \"cannot \", text)\n",
    "    text = re.sub(r\"n't\", \" not \", text)\n",
    "    text = re.sub(r\"i'm\", \"i am \", text)\n",
    "    text = re.sub(r\"\\'re\", \" are \", text)\n",
    "    text = re.sub(r\"\\'d\", \" would \", text)\n",
    "    text = re.sub(r\"\\'ll\", \" will \", text)\n",
    "    text = re.sub(r\"\\'scuse\", \" excuse \", text)\n",
    "    text = re.sub('\\W', ' ', text)\n",
    "    text = re.sub('\\s+', ' ', text)\n",
    "    text = text.strip(' ')\n",
    "    return text"
   ]
  },
  {
   "cell_type": "code",
   "execution_count": 54,
   "metadata": {
    "execution": {
     "iopub.execute_input": "2022-08-18T13:40:32.553484Z",
     "iopub.status.busy": "2022-08-18T13:40:32.553127Z",
     "iopub.status.idle": "2022-08-18T13:40:51.423755Z",
     "shell.execute_reply": "2022-08-18T13:40:51.422687Z",
     "shell.execute_reply.started": "2022-08-18T13:40:32.553454Z"
    }
   },
   "outputs": [],
   "source": [
    "traindf['comment_text'] = traindf['comment_text'].apply(lambda x:cleanData(x))\n",
    "testdf['comment_text'] = testdf['comment_text'].apply(lambda x:cleanData(x))"
   ]
  },
  {
   "cell_type": "markdown",
   "metadata": {},
   "source": [
    "# **Removing of stopWords**"
   ]
  },
  {
   "cell_type": "code",
   "execution_count": 55,
   "metadata": {
    "execution": {
     "iopub.execute_input": "2022-08-18T13:40:51.426749Z",
     "iopub.status.busy": "2022-08-18T13:40:51.426359Z",
     "iopub.status.idle": "2022-08-18T13:40:51.435121Z",
     "shell.execute_reply": "2022-08-18T13:40:51.434085Z",
     "shell.execute_reply.started": "2022-08-18T13:40:51.426712Z"
    }
   },
   "outputs": [
    {
     "data": {
      "text/plain": [
       "0    explanation why the edits made under my userna...\n",
       "1    d aww he matches this background colour i am s...\n",
       "2    hey man i am really not trying to edit war it ...\n",
       "3    more i cannot make any real suggestions on imp...\n",
       "4    you sir are my hero any chance you remember wh...\n",
       "Name: comment_text, dtype: object"
      ]
     },
     "execution_count": 55,
     "metadata": {},
     "output_type": "execute_result"
    }
   ],
   "source": [
    "traindf['comment_text'].head(5)"
   ]
  },
  {
   "cell_type": "code",
   "execution_count": 56,
   "metadata": {
    "execution": {
     "iopub.execute_input": "2022-08-18T13:40:51.437525Z",
     "iopub.status.busy": "2022-08-18T13:40:51.436764Z",
     "iopub.status.idle": "2022-08-18T13:40:51.442736Z",
     "shell.execute_reply": "2022-08-18T13:40:51.441492Z",
     "shell.execute_reply.started": "2022-08-18T13:40:51.437473Z"
    }
   },
   "outputs": [],
   "source": [
    "eng_stopwords = set(stopwords.words(\"english\"))"
   ]
  },
  {
   "cell_type": "code",
   "execution_count": 57,
   "metadata": {
    "execution": {
     "iopub.execute_input": "2022-08-18T13:40:51.446558Z",
     "iopub.status.busy": "2022-08-18T13:40:51.445749Z",
     "iopub.status.idle": "2022-08-18T13:40:55.046044Z",
     "shell.execute_reply": "2022-08-18T13:40:55.045029Z",
     "shell.execute_reply.started": "2022-08-18T13:40:51.446522Z"
    }
   },
   "outputs": [],
   "source": [
    "traindf['comment_text'] = traindf['comment_text'].apply(lambda x: ' '.join([word for word in x.split() if word not in (eng_stopwords)]))\n",
    "testdf['comment_text'] = testdf['comment_text'].apply(lambda x: ' '.join([word for word in x.split() if word not in (eng_stopwords)]))"
   ]
  },
  {
   "cell_type": "code",
   "execution_count": 58,
   "metadata": {
    "execution": {
     "iopub.execute_input": "2022-08-18T13:40:55.048715Z",
     "iopub.status.busy": "2022-08-18T13:40:55.048319Z",
     "iopub.status.idle": "2022-08-18T13:40:55.057327Z",
     "shell.execute_reply": "2022-08-18T13:40:55.056132Z",
     "shell.execute_reply.started": "2022-08-18T13:40:55.048678Z"
    }
   },
   "outputs": [
    {
     "data": {
      "text/plain": [
       "0    explanation edits made username hardcore metal...\n",
       "1    aww matches background colour seemingly stuck ...\n",
       "2    hey man really trying edit war guy constantly ...\n",
       "3    cannot make real suggestions improvement wonde...\n",
       "4                        sir hero chance remember page\n",
       "Name: comment_text, dtype: object"
      ]
     },
     "execution_count": 58,
     "metadata": {},
     "output_type": "execute_result"
    }
   ],
   "source": [
    "traindf['comment_text'].head(5)"
   ]
  },
  {
   "cell_type": "markdown",
   "metadata": {},
   "source": [
    "# **Applying Lemmatization or Stemming**"
   ]
  },
  {
   "cell_type": "code",
   "execution_count": 59,
   "metadata": {
    "execution": {
     "iopub.execute_input": "2022-08-18T13:40:55.060038Z",
     "iopub.status.busy": "2022-08-18T13:40:55.059258Z",
     "iopub.status.idle": "2022-08-18T13:40:55.065713Z",
     "shell.execute_reply": "2022-08-18T13:40:55.064782Z",
     "shell.execute_reply.started": "2022-08-18T13:40:55.059999Z"
    }
   },
   "outputs": [],
   "source": [
    "stemmer = PorterStemmer()\n",
    "wordnet_lemmatizer = WordNetLemmatizer()"
   ]
  },
  {
   "cell_type": "code",
   "execution_count": 60,
   "metadata": {
    "execution": {
     "iopub.execute_input": "2022-08-18T13:40:55.069941Z",
     "iopub.status.busy": "2022-08-18T13:40:55.069007Z",
     "iopub.status.idle": "2022-08-18T13:40:55.077019Z",
     "shell.execute_reply": "2022-08-18T13:40:55.076037Z",
     "shell.execute_reply.started": "2022-08-18T13:40:55.069895Z"
    }
   },
   "outputs": [],
   "source": [
    "# stemming and lemmatizing\n",
    "# adapted from the kernal \n",
    "\n",
    "def stem_word(text):\n",
    "    txt = \" \".join([stemmer.stem(w) for w in text.split()])\n",
    "    return text\n",
    "\n",
    "def lemmatize_word(text):\n",
    "    txt = \" \".join([wordnet_lemmatizer.lemmatize(w) for w in text.split()])"
   ]
  },
  {
   "cell_type": "code",
   "execution_count": 61,
   "metadata": {
    "execution": {
     "iopub.execute_input": "2022-08-18T13:40:55.080616Z",
     "iopub.status.busy": "2022-08-18T13:40:55.079943Z",
     "iopub.status.idle": "2022-08-18T13:40:55.087553Z",
     "shell.execute_reply": "2022-08-18T13:40:55.086553Z",
     "shell.execute_reply.started": "2022-08-18T13:40:55.080586Z"
    }
   },
   "outputs": [],
   "source": [
    "SL = -1"
   ]
  },
  {
   "cell_type": "code",
   "execution_count": 62,
   "metadata": {
    "execution": {
     "iopub.execute_input": "2022-08-18T13:40:55.089672Z",
     "iopub.status.busy": "2022-08-18T13:40:55.089088Z",
     "iopub.status.idle": "2022-08-18T13:40:55.097415Z",
     "shell.execute_reply": "2022-08-18T13:40:55.096418Z",
     "shell.execute_reply.started": "2022-08-18T13:40:55.089635Z"
    }
   },
   "outputs": [],
   "source": [
    "if(SL == 1):\n",
    "    traindf['comment_text'] = traindf['comment_text'].map(lambda x: stem_word(x))\n",
    "    testdf['comment_text'] = testdf['comment_text'].map(lambda x: stem_word(x))\n",
    "else:\n",
    "    traindf['comment_text'] = traindf['comment_text'].map(lambda x: lemmatize_word(x))\n",
    "    testdf['comment_text'] = testdf['comment_text'].map(lambda x: lemmatize_word(x))"
   ]
  },
  {
   "cell_type": "code",
   "execution_count": 63,
   "metadata": {
    "execution": {
     "iopub.execute_input": "2022-08-18T13:40:55.103769Z",
     "iopub.status.busy": "2022-08-18T13:40:55.101148Z",
     "iopub.status.idle": "2022-08-18T13:40:55.111921Z",
     "shell.execute_reply": "2022-08-18T13:40:55.110839Z",
     "shell.execute_reply.started": "2022-08-18T13:40:55.103738Z"
    }
   },
   "outputs": [
    {
     "data": {
      "text/plain": [
       "0         explanation edits made username hardcore metal...\n",
       "1         aww matches background colour seemingly stuck ...\n",
       "2         hey man really trying edit war guy constantly ...\n",
       "3         cannot make real suggestions improvement wonde...\n",
       "4                             sir hero chance remember page\n",
       "                                ...                        \n",
       "159566    second time asking view completely contradicts...\n",
       "159567    ashamed horrible thing put talk page 128 61 19 93\n",
       "159568    spitzer umm theres actual article prostitution...\n",
       "159569    looks like actually put speedy first version d...\n",
       "159570    really think understand came idea bad right aw...\n",
       "Name: comment_text, Length: 159571, dtype: object"
      ]
     },
     "execution_count": 63,
     "metadata": {},
     "output_type": "execute_result"
    }
   ],
   "source": [
    "traindf['comment_text']"
   ]
  },
  {
   "cell_type": "code",
   "execution_count": 64,
   "metadata": {
    "execution": {
     "iopub.execute_input": "2022-08-18T13:41:04.150433Z",
     "iopub.status.busy": "2022-08-18T13:41:04.149402Z",
     "iopub.status.idle": "2022-08-18T13:41:04.158462Z",
     "shell.execute_reply": "2022-08-18T13:41:04.157403Z",
     "shell.execute_reply.started": "2022-08-18T13:41:04.150394Z"
    }
   },
   "outputs": [],
   "source": [
    "X = traindf.comment_text\n",
    "Y = traindf.drop(['id', 'comment_text'], axis = 1)"
   ]
  },
  {
   "cell_type": "code",
   "execution_count": 65,
   "metadata": {
    "execution": {
     "iopub.execute_input": "2022-08-18T13:41:04.409850Z",
     "iopub.status.busy": "2022-08-18T13:41:04.408789Z",
     "iopub.status.idle": "2022-08-18T13:41:04.416097Z",
     "shell.execute_reply": "2022-08-18T13:41:04.414838Z",
     "shell.execute_reply.started": "2022-08-18T13:41:04.409767Z"
    }
   },
   "outputs": [
    {
     "name": "stdout",
     "output_type": "stream",
     "text": [
      "(159571,) (159571, 6)\n"
     ]
    }
   ],
   "source": [
    "print(X.shape, Y.shape)"
   ]
  },
  {
   "cell_type": "code",
   "execution_count": 66,
   "metadata": {
    "execution": {
     "iopub.execute_input": "2022-08-18T13:41:48.287099Z",
     "iopub.status.busy": "2022-08-18T13:41:48.286367Z",
     "iopub.status.idle": "2022-08-18T13:41:48.321105Z",
     "shell.execute_reply": "2022-08-18T13:41:48.319798Z",
     "shell.execute_reply.started": "2022-08-18T13:41:48.287060Z"
    }
   },
   "outputs": [],
   "source": [
    "X_train,X_test, y_train,y_test= train_test_split(X,Y,test_size=0.2, random_state=1)"
   ]
  },
  {
   "cell_type": "code",
   "execution_count": 67,
   "metadata": {
    "execution": {
     "iopub.execute_input": "2022-08-18T13:41:52.086413Z",
     "iopub.status.busy": "2022-08-18T13:41:52.085388Z",
     "iopub.status.idle": "2022-08-18T13:41:52.094747Z",
     "shell.execute_reply": "2022-08-18T13:41:52.093681Z",
     "shell.execute_reply.started": "2022-08-18T13:41:52.086364Z"
    }
   },
   "outputs": [
    {
     "data": {
      "text/plain": [
       "150865    indicated blocked editor comments might allowe...\n",
       "59427     even userboxes others page one userbox meaning...\n",
       "Name: comment_text, dtype: object"
      ]
     },
     "execution_count": 67,
     "metadata": {},
     "output_type": "execute_result"
    }
   ],
   "source": [
    "X_train.head(2)"
   ]
  },
  {
   "cell_type": "code",
   "execution_count": 68,
   "metadata": {
    "execution": {
     "iopub.execute_input": "2022-08-18T13:41:53.026629Z",
     "iopub.status.busy": "2022-08-18T13:41:53.025899Z",
     "iopub.status.idle": "2022-08-18T13:41:53.037148Z",
     "shell.execute_reply": "2022-08-18T13:41:53.036074Z",
     "shell.execute_reply.started": "2022-08-18T13:41:53.026590Z"
    }
   },
   "outputs": [
    {
     "data": {
      "text/html": [
       "<div>\n",
       "<style scoped>\n",
       "    .dataframe tbody tr th:only-of-type {\n",
       "        vertical-align: middle;\n",
       "    }\n",
       "\n",
       "    .dataframe tbody tr th {\n",
       "        vertical-align: top;\n",
       "    }\n",
       "\n",
       "    .dataframe thead th {\n",
       "        text-align: right;\n",
       "    }\n",
       "</style>\n",
       "<table border=\"1\" class=\"dataframe\">\n",
       "  <thead>\n",
       "    <tr style=\"text-align: right;\">\n",
       "      <th></th>\n",
       "      <th>toxic</th>\n",
       "      <th>severe_toxic</th>\n",
       "      <th>obscene</th>\n",
       "      <th>threat</th>\n",
       "      <th>insult</th>\n",
       "      <th>identity_hate</th>\n",
       "    </tr>\n",
       "  </thead>\n",
       "  <tbody>\n",
       "    <tr>\n",
       "      <th>150865</th>\n",
       "      <td>0</td>\n",
       "      <td>0</td>\n",
       "      <td>0</td>\n",
       "      <td>0</td>\n",
       "      <td>0</td>\n",
       "      <td>0</td>\n",
       "    </tr>\n",
       "    <tr>\n",
       "      <th>59427</th>\n",
       "      <td>0</td>\n",
       "      <td>0</td>\n",
       "      <td>0</td>\n",
       "      <td>0</td>\n",
       "      <td>0</td>\n",
       "      <td>0</td>\n",
       "    </tr>\n",
       "  </tbody>\n",
       "</table>\n",
       "</div>"
      ],
      "text/plain": [
       "        toxic  severe_toxic  obscene  threat  insult  identity_hate\n",
       "150865      0             0        0       0       0              0\n",
       "59427       0             0        0       0       0              0"
      ]
     },
     "execution_count": 68,
     "metadata": {},
     "output_type": "execute_result"
    }
   ],
   "source": [
    "y_train.head(2)"
   ]
  },
  {
   "cell_type": "code",
   "execution_count": 71,
   "metadata": {
    "execution": {
     "iopub.execute_input": "2022-08-18T13:43:07.721108Z",
     "iopub.status.busy": "2022-08-18T13:43:07.720392Z",
     "iopub.status.idle": "2022-08-18T13:43:07.727685Z",
     "shell.execute_reply": "2022-08-18T13:43:07.726562Z",
     "shell.execute_reply.started": "2022-08-18T13:43:07.721068Z"
    }
   },
   "outputs": [
    {
     "name": "stdout",
     "output_type": "stream",
     "text": [
      "(127656,)\n",
      "(127656, 6)\n",
      "(31915,)\n",
      "(31915, 6)\n"
     ]
    }
   ],
   "source": [
    "print(X_train.shape)\n",
    "print(y_train.shape)\n",
    "print(X_test.shape)\n",
    "print(y_test.shape)"
   ]
  },
  {
   "cell_type": "markdown",
   "metadata": {},
   "source": [
    "# **Term Frequency Inverse Document Frequency Vectorizer**"
   ]
  },
  {
   "cell_type": "code",
   "execution_count": 73,
   "metadata": {
    "execution": {
     "iopub.execute_input": "2022-08-18T13:52:29.926582Z",
     "iopub.status.busy": "2022-08-18T13:52:29.925574Z",
     "iopub.status.idle": "2022-08-18T13:53:39.331686Z",
     "shell.execute_reply": "2022-08-18T13:53:39.330678Z",
     "shell.execute_reply.started": "2022-08-18T13:52:29.926486Z"
    }
   },
   "outputs": [],
   "source": [
    "word_vectorizer = TfidfVectorizer(\n",
    "    strip_accents='unicode',     \n",
    "    analyzer='word',            \n",
    "    token_pattern=r'\\w{1,}',    \n",
    "    ngram_range=(1, 3),\n",
    "    sublinear_tf=True)\n",
    "\n",
    "word_vectorizer.fit(X_train)    \n",
    "train_word_features = word_vectorizer.transform(X_train)\n",
    "test_features = word_vectorizer.transform(X_test)"
   ]
  },
  {
   "cell_type": "code",
   "execution_count": 74,
   "metadata": {
    "execution": {
     "iopub.execute_input": "2022-08-18T13:54:04.907167Z",
     "iopub.status.busy": "2022-08-18T13:54:04.906778Z",
     "iopub.status.idle": "2022-08-18T13:54:04.925548Z",
     "shell.execute_reply": "2022-08-18T13:54:04.924394Z",
     "shell.execute_reply.started": "2022-08-18T13:54:04.907137Z"
    }
   },
   "outputs": [
    {
     "name": "stdout",
     "output_type": "stream",
     "text": [
      "  (0, 5866984)\t0.2942800064840123\n",
      "  (0, 5856845)\t0.105274443722764\n",
      "  (0, 5797987)\t0.29059846088813784\n",
      "  (0, 4592543)\t0.41547809852940654\n",
      "  (0, 4102255)\t0.2961286714118136\n",
      "  (0, 3594853)\t0.17113893165523678\n",
      "  (0, 3391164)\t0.4308412180754633\n",
      "  (0, 3390919)\t0.29532531732717643\n",
      "  (0, 2509175)\t0.17223403929975795\n",
      "  (0, 2223881)\t0.39251154326933785\n",
      "  (0, 2020463)\t0.26775969703058516\n",
      "  (1, 6045481)\t0.034213979491999655\n",
      "  (1, 6037090)\t0.050488499175941864\n",
      "  (1, 6034497)\t0.02323359696247996\n",
      "  (1, 6023221)\t0.057302224729307336\n",
      "  (1, 6023220)\t0.057302224729307336\n",
      "  (1, 6023217)\t0.05091616566543752\n",
      "  (1, 6017497)\t0.02498073804781958\n",
      "  (1, 5979133)\t0.051902474983162444\n",
      "  (1, 5974701)\t0.05479148407884661\n",
      "  (1, 5974566)\t0.03605969786140249\n",
      "  (1, 5970602)\t0.03668504231622314\n",
      "  (1, 5970385)\t0.048229868351854825\n",
      "  (1, 5970042)\t0.037960408319683406\n",
      "  (1, 5958551)\t0.03707023129929523\n",
      "  :\t:\n",
      "  (31913, 4352782)\t0.25772635245653225\n",
      "  (31913, 2207541)\t0.39128265225143405\n",
      "  (31913, 94221)\t0.5273949058922298\n",
      "  (31913, 94220)\t0.2701961483259534\n",
      "  (31913, 25101)\t0.24201488504845078\n",
      "  (31913, 4832)\t0.46164177998988104\n",
      "  (31913, 4733)\t0.284133081924203\n",
      "  (31914, 5979036)\t0.33145173556483704\n",
      "  (31914, 5978870)\t0.2119572681993333\n",
      "  (31914, 5957747)\t0.0867326624569793\n",
      "  (31914, 5878200)\t0.3698591984931935\n",
      "  (31914, 5856845)\t0.0851811983389268\n",
      "  (31914, 5441631)\t0.22992447950444364\n",
      "  (31914, 5123867)\t0.3486085506765317\n",
      "  (31914, 5123858)\t0.3124731050928517\n",
      "  (31914, 5121967)\t0.15801857126935082\n",
      "  (31914, 4295723)\t0.28299796519009074\n",
      "  (31914, 4293540)\t0.16639288345605235\n",
      "  (31914, 2442604)\t0.2787916251874108\n",
      "  (31914, 2440896)\t0.12470131090722326\n",
      "  (31914, 1720607)\t0.1197644763657878\n",
      "  (31914, 1646453)\t0.28040558751955097\n",
      "  (31914, 1640969)\t0.13279864376595701\n",
      "  (31914, 367487)\t0.25676477884314425\n",
      "  (31914, 366196)\t0.13803284161258872\n"
     ]
    }
   ],
   "source": [
    "print(test_features)"
   ]
  },
  {
   "cell_type": "code",
   "execution_count": 80,
   "metadata": {
    "execution": {
     "iopub.execute_input": "2022-08-18T14:03:07.423165Z",
     "iopub.status.busy": "2022-08-18T14:03:07.422491Z",
     "iopub.status.idle": "2022-08-18T14:03:07.429532Z",
     "shell.execute_reply": "2022-08-18T14:03:07.428324Z",
     "shell.execute_reply.started": "2022-08-18T14:03:07.423107Z"
    }
   },
   "outputs": [],
   "source": [
    "from sklearn.model_selection import cross_val_score\n",
    "from sklearn.metrics import classification_report"
   ]
  },
  {
   "cell_type": "markdown",
   "metadata": {},
   "source": [
    "# **Model Validation on train data set**"
   ]
  },
  {
   "cell_type": "code",
   "execution_count": 81,
   "metadata": {
    "execution": {
     "iopub.execute_input": "2022-08-18T14:03:07.734903Z",
     "iopub.status.busy": "2022-08-18T14:03:07.734537Z",
     "iopub.status.idle": "2022-08-18T14:24:51.044740Z",
     "shell.execute_reply": "2022-08-18T14:24:51.043427Z",
     "shell.execute_reply.started": "2022-08-18T14:03:07.734873Z"
    }
   },
   "outputs": [
    {
     "name": "stdout",
     "output_type": "stream",
     "text": [
      "CV Log_loss score for class toxic is -0.12863461870255985\n",
      "CV Accuracy score for class toxic is 0.951126456946513\n",
      "CV ROC_AUC score 0.9715990354128325\n",
      "\n",
      "[[28466   346]\n",
      " [  923  2180]]\n",
      "              precision    recall  f1-score   support\n",
      "\n",
      "           0       0.97      0.99      0.98     28812\n",
      "           1       0.86      0.70      0.77      3103\n",
      "\n",
      "    accuracy                           0.96     31915\n",
      "   macro avg       0.92      0.85      0.88     31915\n",
      "weighted avg       0.96      0.96      0.96     31915\n",
      "\n",
      "CV Log_loss score for class severe_toxic is -0.030711030483080937\n",
      "CV Accuracy score for class severe_toxic is 0.9902002243152864\n",
      "CV ROC_AUC score 0.9856224961987531\n",
      "\n",
      "[[31358   254]\n",
      " [  159   144]]\n",
      "              precision    recall  f1-score   support\n",
      "\n",
      "           0       0.99      0.99      0.99     31612\n",
      "           1       0.36      0.48      0.41       303\n",
      "\n",
      "    accuracy                           0.99     31915\n",
      "   macro avg       0.68      0.73      0.70     31915\n",
      "weighted avg       0.99      0.99      0.99     31915\n",
      "\n",
      "CV Log_loss score for class obscene is -0.07035545650130558\n",
      "CV Accuracy score for class obscene is 0.9747054606223656\n",
      "CV ROC_AUC score 0.9844444227428155\n",
      "\n",
      "[[29995   233]\n",
      " [  411  1276]]\n",
      "              precision    recall  f1-score   support\n",
      "\n",
      "           0       0.99      0.99      0.99     30228\n",
      "           1       0.85      0.76      0.80      1687\n",
      "\n",
      "    accuracy                           0.98     31915\n",
      "   macro avg       0.92      0.87      0.89     31915\n",
      "weighted avg       0.98      0.98      0.98     31915\n",
      "\n",
      "CV Log_loss score for class threat is -0.012447330640256217\n",
      "CV Accuracy score for class threat is 0.997109418817572\n",
      "CV ROC_AUC score 0.9792344985425806\n",
      "\n",
      "[[31789    25]\n",
      " [   71    30]]\n",
      "              precision    recall  f1-score   support\n",
      "\n",
      "           0       1.00      1.00      1.00     31814\n",
      "           1       0.55      0.30      0.38       101\n",
      "\n",
      "    accuracy                           1.00     31915\n",
      "   macro avg       0.77      0.65      0.69     31915\n",
      "weighted avg       1.00      1.00      1.00     31915\n",
      "\n",
      "CV Log_loss score for class insult is -0.08785517568683285\n",
      "CV Accuracy score for class insult is 0.9674750815014027\n",
      "CV ROC_AUC score 0.9770872522396525\n",
      "\n",
      "[[29952   389]\n",
      " [  544  1030]]\n",
      "              precision    recall  f1-score   support\n",
      "\n",
      "           0       0.98      0.99      0.98     30341\n",
      "           1       0.73      0.65      0.69      1574\n",
      "\n",
      "    accuracy                           0.97     31915\n",
      "   macro avg       0.85      0.82      0.84     31915\n",
      "weighted avg       0.97      0.97      0.97     31915\n",
      "\n",
      "CV Log_loss score for class identity_hate is -0.0302449311155109\n",
      "CV Accuracy score for class identity_hate is 0.991665102163158\n",
      "CV ROC_AUC score 0.9771598031106711\n",
      "\n",
      "[[31539    90]\n",
      " [  181   105]]\n",
      "              precision    recall  f1-score   support\n",
      "\n",
      "           0       0.99      1.00      1.00     31629\n",
      "           1       0.54      0.37      0.44       286\n",
      "\n",
      "    accuracy                           0.99     31915\n",
      "   macro avg       0.77      0.68      0.72     31915\n",
      "weighted avg       0.99      0.99      0.99     31915\n",
      "\n",
      "Total average CV Log_loss score is -0.060041423854924385\n",
      "Total average CV ROC_AUC score is 0.9791912513745508\n"
     ]
    }
   ],
   "source": [
    "losses = []\n",
    "auc = []\n",
    "\n",
    "for class_name in cols_target:\n",
    "    #call the labels one column at a time so we can run the classifier on them\n",
    "    train_target = y_train[class_name]\n",
    "    test_target = y_test[class_name]\n",
    "    classifier = LogisticRegression(solver='sag', C=10)\n",
    "\n",
    "    cv_loss = np.mean(cross_val_score(classifier, train_word_features, train_target, cv=5, scoring='neg_log_loss'))\n",
    "    losses.append(cv_loss)\n",
    "    print('CV Log_loss score for class {} is {}'.format(class_name, cv_loss))\n",
    "\n",
    "    cv_score = np.mean(cross_val_score(classifier, train_word_features, train_target, cv=5, scoring='accuracy'))\n",
    "    print('CV Accuracy score for class {} is {}'.format(class_name, cv_score))\n",
    "    \n",
    "    classifier.fit(train_word_features, train_target)\n",
    "    y_pred = classifier.predict(test_features)\n",
    "    y_pred_prob = classifier.predict_proba(test_features)[:, 1]\n",
    "    auc_score = metrics.roc_auc_score(test_target, y_pred_prob)\n",
    "    auc.append(auc_score)\n",
    "    print(\"CV ROC_AUC score {}\\n\".format(auc_score))\n",
    "    \n",
    "    print(confusion_matrix(test_target, y_pred))\n",
    "    print(classification_report(test_target, y_pred))\n",
    "\n",
    "print('Total average CV Log_loss score is {}'.format(np.mean(losses)))\n",
    "print('Total average CV ROC_AUC score is {}'.format(np.mean(auc)))"
   ]
  },
  {
   "cell_type": "markdown",
   "metadata": {},
   "source": [
    "# **Test Prediction**"
   ]
  },
  {
   "cell_type": "code",
   "execution_count": 86,
   "metadata": {
    "execution": {
     "iopub.execute_input": "2022-08-18T15:01:22.668211Z",
     "iopub.status.busy": "2022-08-18T15:01:22.667822Z",
     "iopub.status.idle": "2022-08-18T15:01:22.676442Z",
     "shell.execute_reply": "2022-08-18T15:01:22.675243Z",
     "shell.execute_reply.started": "2022-08-18T15:01:22.668176Z"
    }
   },
   "outputs": [],
   "source": [
    "def make_test_predictions(df,classifier):\n",
    "    df.comment_text = df.comment_text.apply(cleanData)\n",
    "    X_test = df.comment_text\n",
    "    X_test_transformed = word_vectorizer.transform(X_test)\n",
    "    y_test_pred = classifier.predict_proba(X_test_transformed)\n",
    "    result =  sum(y_test_pred[0])\n",
    "    if result >=1 :\n",
    "       return(\"Toxic Comment\")\n",
    "    else :\n",
    "       return (\"NonToxic Comment\")"
   ]
  },
  {
   "cell_type": "code",
   "execution_count": 95,
   "metadata": {
    "execution": {
     "iopub.execute_input": "2022-08-18T15:06:00.477177Z",
     "iopub.status.busy": "2022-08-18T15:06:00.476718Z",
     "iopub.status.idle": "2022-08-18T15:08:10.698881Z",
     "shell.execute_reply": "2022-08-18T15:08:10.697826Z",
     "shell.execute_reply.started": "2022-08-18T15:06:00.477139Z"
    }
   },
   "outputs": [
    {
     "data": {
      "text/plain": [
       "OneVsRestClassifier(estimator=LogisticRegression(C=10, random_state=45,\n",
       "                                                 solver='liblinear'))"
      ]
     },
     "execution_count": 95,
     "metadata": {},
     "output_type": "execute_result"
    }
   ],
   "source": [
    "log_reg = LogisticRegression(C = 10, penalty='l2', solver = 'liblinear', random_state=45)\n",
    "classifier = OneVsRestClassifier(log_reg)\n",
    "classifier.fit(train_word_features, y_train)"
   ]
  },
  {
   "cell_type": "code",
   "execution_count": 96,
   "metadata": {
    "execution": {
     "iopub.execute_input": "2022-08-18T15:08:10.701991Z",
     "iopub.status.busy": "2022-08-18T15:08:10.701236Z",
     "iopub.status.idle": "2022-08-18T15:08:10.885390Z",
     "shell.execute_reply": "2022-08-18T15:08:10.884214Z",
     "shell.execute_reply.started": "2022-08-18T15:08:10.701954Z"
    }
   },
   "outputs": [
    {
     "name": "stdout",
     "output_type": "stream",
     "text": [
      "NonToxic Comment\n"
     ]
    }
   ],
   "source": [
    "comment_text = \"I don't think so\"\n",
    "comment ={'id':[565],'comment_text':[comment_text]}\n",
    "comment = pd.DataFrame(comment)\n",
    "result = make_test_predictions(comment,classifier)\n",
    "print(result)"
   ]
  },
  {
   "cell_type": "code",
   "execution_count": null,
   "metadata": {},
   "outputs": [],
   "source": []
  }
 ],
 "metadata": {
  "kernelspec": {
   "display_name": "Python 3 (ipykernel)",
   "language": "python",
   "name": "python3"
  },
  "language_info": {
   "codemirror_mode": {
    "name": "ipython",
    "version": 3
   },
   "file_extension": ".py",
   "mimetype": "text/x-python",
   "name": "python",
   "nbconvert_exporter": "python",
   "pygments_lexer": "ipython3",
   "version": "3.12.4"
  }
 },
 "nbformat": 4,
 "nbformat_minor": 4
}
